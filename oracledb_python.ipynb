{
 "cells": [
  {
   "cell_type": "code",
   "execution_count": null,
   "metadata": {},
   "outputs": [],
   "source": [
    "# pip install cx_Oracle\n",
    "# # uncomment this only if you have not installed oracle client"
   ]
  },
  {
   "cell_type": "code",
   "execution_count": null,
   "metadata": {},
   "outputs": [],
   "source": [
    "# necessary imports\n",
    "import cx_Oracle\n",
    "import pandas as pd\n",
    "import re\n",
    "import string"
   ]
  },
  {
   "cell_type": "code",
   "execution_count": null,
   "metadata": {},
   "outputs": [],
   "source": [
    "oracle_client_path = \"C:\\OracleInstantClient\" # the path for Oracle Client"
   ]
  },
  {
   "cell_type": "code",
   "execution_count": null,
   "metadata": {},
   "outputs": [],
   "source": [
    "cx_Oracle.init_oracle_client(oracle_client_path)"
   ]
  },
  {
   "cell_type": "code",
   "execution_count": null,
   "metadata": {},
   "outputs": [],
   "source": [
    "username = \"hr\"\n",
    "password = \"oracle\""
   ]
  },
  {
   "cell_type": "code",
   "execution_count": null,
   "metadata": {},
   "outputs": [],
   "source": [
    "connection = cx_Oracle.connect(username+\"/\"+password+\"@localhost:1521/xe\")\n",
    "cur = connection.cursor()"
   ]
  },
  {
   "cell_type": "code",
   "execution_count": null,
   "metadata": {
    "scrolled": false
   },
   "outputs": [],
   "source": [
    "statement = input()\n",
    "tokens = re.sub(\"[\" + string.punctuation + \"]\", \"\", statement).split()\n",
    "attributes = []\n",
    "if statement.find(\"* from\") != -1:\n",
    "    table_name = tokens[tokens.index(\"from\") + 1]\n",
    "    cur.execute(\"select column_name from user_tab_columns where table_name = '\" + table_name.upper() + \"'\")\n",
    "    res = cur.fetchall()\n",
    "    for i in range(len(res)):\n",
    "        attributes.append(res[i][0])\n",
    "else:\n",
    "    for i in range(tokens.index(\"select\")+1, tokens.index(\"from\")):\n",
    "        attributes.append(tokens[i].upper())\n",
    "# print(cols) # used for debugging\n",
    "cur.execute(statement)\n",
    "res = cur.fetchall()\n",
    "print(\"Fetched \", len(res), \" rows\")\n",
    "if statement.find(\"* from\") == -1:\n",
    "    data = pd.DataFrame(res, columns = attributes)\n",
    "else:\n",
    "    data = pd.DataFrame(res, columns = attributes)\n",
    "pd.set_option(\"display.max_rows\", None, \"display.max_columns\", None)\n",
    "data"
   ]
  }
 ],
 "metadata": {
  "kernelspec": {
   "display_name": "Python 3",
   "language": "python",
   "name": "python3"
  },
  "language_info": {
   "codemirror_mode": {
    "name": "ipython",
    "version": 3
   },
   "file_extension": ".py",
   "mimetype": "text/x-python",
   "name": "python",
   "nbconvert_exporter": "python",
   "pygments_lexer": "ipython3",
   "version": "3.7.3"
  }
 },
 "nbformat": 4,
 "nbformat_minor": 2
}
